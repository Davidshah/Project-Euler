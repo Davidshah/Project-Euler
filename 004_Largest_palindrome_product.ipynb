{
 "cells": [
  {
   "cell_type": "markdown",
   "metadata": {},
   "source": [
    "# Project Euler: Problem 4\n",
    "\n",
    "A palindromic number reads the same both ways. The largest palindrome made from the product of two 2-digit numbers is 9009 = 91 × 99.\n",
    "\n",
    "Find the largest palindrome made from the product of two 3-digit numbers.\n",
    "\n",
    "**Disclaimer: Project Euler discourages the publishing of answers on the internet. Anyone who wishes to work out these problems on their own should stop reading now.**"
   ]
  },
  {
   "cell_type": "markdown",
   "metadata": {},
   "source": [
    "### Strategy\n",
    "1. Create algorithm to test for palindromic numbers\n",
    "2. Test products of three digit numbers in reverse order (999x998, 999*997, ...)\n",
    "3. When palindromic number found, stop testing products of 999. Begin recursively testing products of 998.\n",
    "4. Compare new palindromic numbers found, retaining the largest."
   ]
  },
  {
   "cell_type": "code",
   "execution_count": 174,
   "metadata": {
    "collapsed": true
   },
   "outputs": [],
   "source": [
    "### Initalize Libararies\n",
    "\n",
    "from time import time\n",
    "import math"
   ]
  },
  {
   "cell_type": "code",
   "execution_count": 175,
   "metadata": {
    "collapsed": false
   },
   "outputs": [],
   "source": [
    "### Step 1 - Create algorithm to test for palindromic numbers\n",
    "\n",
    "def ispalindrome(n):\n",
    "    \"\"\"\n",
    "    takes in a number n and returns true if palindromic\n",
    "    \"\"\"\n",
    "    return str(n) == str(n)[::-1]"
   ]
  },
  {
   "cell_type": "code",
   "execution_count": 176,
   "metadata": {
    "collapsed": true
   },
   "outputs": [],
   "source": [
    "### Test Step 1\n",
    "\n",
    "def test():\n",
    "    assert ispalindrome(111) == True\n",
    "    assert ispalindrome(112) == False\n",
    "    assert ispalindrome(9009) == True\n",
    "    assert ispalindrome(9125) == False\n",
    "    assert ispalindrome(80808) == True\n",
    "    assert ispalindrome(887485) == False\n",
    "    \n",
    "test()"
   ]
  },
  {
   "cell_type": "code",
   "execution_count": 170,
   "metadata": {
    "collapsed": false
   },
   "outputs": [
    {
     "name": "stdout",
     "output_type": "stream",
     "text": [
      "906609\n",
      "Time to find: 0.01 s\n"
     ]
    }
   ],
   "source": [
    "### Step 2:5 - test backward for palindromic numbers.\n",
    "\n",
    "max_palindrom = 1\n",
    "min_y = 1\n",
    "\n",
    "def largest_palindromic_num(max_num, stop=90):\n",
    "    \"\"\"\n",
    "    Finds the largest palindromic product of two numbers working\n",
    "    backwards from max_num recursively.\n",
    "    \"\"\"\n",
    "    # global variable\n",
    "    global max_palindrom, min_y\n",
    "    \n",
    "    # initialize timer and palindromic check variable\n",
    "    x = 12\n",
    "    y = max_num\n",
    "    \n",
    "    while not ispalindrome(x) and y > min_y:\n",
    "        y = y-1\n",
    "        x = max_num * y\n",
    "        \n",
    "        if ispalindrom(x):\n",
    "            if x > max_palindrom:\n",
    "                max_palindrom = x\n",
    "                min_y = y\n",
    "    \n",
    "    if max_num > stop:\n",
    "        largest_palindromic_num(max_num - 1, stop)\n",
    "                \n",
    "                \n",
    "    \n",
    "t0 = time()\n",
    "largest_palindromic_num(999, stop=900)\n",
    "print max_palindrom\n",
    "print \"Time to find:\", round(time()-t0, 3), \"s\""
   ]
  },
  {
   "cell_type": "markdown",
   "metadata": {
    "collapsed": true
   },
   "source": [
    "This algorithm quickly hits recursive run time errors if a stop isn't accuratly placed. Since we do not know where to place a stop, this algorithm does not generalize well. I will modify my strategy to solve the problem iterativly."
   ]
  },
  {
   "cell_type": "markdown",
   "metadata": {},
   "source": [
    "### Revised Strategy\n",
    "1. Create algorithm to test for palindromic numbers (already done).\n",
    "2. Input a maximum number to find a palindromic number that is below it.\n",
    "3. Extract the first digit of that number in order to create a range for the solution (ie. 900000 - 999999).\n",
    "4. Set the floor for testing x at the sqrt of the range floor (ie. 948).\n",
    "6. Set the ceiling for texting y at x (ie. not testing higher than x^2 for each x since it would be redundent).\n",
    "7. Iterate through products of x*y.\n",
    "8. Test if iterations are divisable by 11 since all palindromes are divisable by 11.\n",
    "9. Test if iteration is larger than current largest palindrome.\n",
    "10. Test if iteration is palindromic.\n",
    "11. Update largest palindrome."
   ]
  },
  {
   "cell_type": "code",
   "execution_count": 171,
   "metadata": {
    "collapsed": false
   },
   "outputs": [],
   "source": [
    "def largest_pal_less_than(n):\n",
    "    \"\"\"\n",
    "    takes in a max number and returns the largest palindrome\n",
    "    product of two 3 digit numbers that is less than that number.\n",
    "    \"\"\"\n",
    "    # initalize timer\n",
    "    t0 = time()\n",
    "    \n",
    "    # initialize variables and find range\n",
    "    max_pal = 100001\n",
    "    first_digit = int(str(n-1)[0])\n",
    "    range_floor = first_digit * 100000\n",
    "    \n",
    "    # iterate through combinations of x and y\n",
    "    for x in xrange(int(math.sqrt(range_floor)), 1000):\n",
    "        for y in xrange(2, x+1):\n",
    "            \n",
    "            # check if products are evenly divisable by 11\n",
    "            if y*x % 11 == 0:\n",
    "                z = y*x\n",
    "                \n",
    "                # check if larger than current max_pal and less than max number\n",
    "                if z > max_pal and z < n:\n",
    "                    \n",
    "                    # check if palindrome and update max_pal\n",
    "                    if ispalindrome(z):\n",
    "                        max_pal = z\n",
    "                         \n",
    "    print \"Time to find:\", round(time()-t0, 3), \"s\"\n",
    "    return max_pal"
   ]
  },
  {
   "cell_type": "code",
   "execution_count": 172,
   "metadata": {
    "collapsed": false
   },
   "outputs": [
    {
     "name": "stdout",
     "output_type": "stream",
     "text": [
      "Time to find: 0.031 s\n",
      "Time to find: 0.011 s\n"
     ]
    }
   ],
   "source": [
    "### Test Revised Strategy\n",
    "\n",
    "def test():\n",
    "    assert largest_pal_less_than(101110) == 101101\n",
    "    assert largest_pal_less_than(800000) == 793397\n",
    "    \n",
    "test()"
   ]
  },
  {
   "cell_type": "code",
   "execution_count": 173,
   "metadata": {
    "collapsed": false
   },
   "outputs": [
    {
     "name": "stdout",
     "output_type": "stream",
     "text": [
      "Time to find: 0.005 s\n"
     ]
    },
    {
     "data": {
      "text/plain": [
       "906609"
      ]
     },
     "execution_count": 173,
     "metadata": {},
     "output_type": "execute_result"
    }
   ],
   "source": [
    "### Answer Project Euler #4\n",
    "### Find the largest palindrome made from the product of two 3-digit numbers.\n",
    "\n",
    "largest_pal_less_than((999*999))"
   ]
  }
 ],
 "metadata": {
  "kernelspec": {
   "display_name": "Python 2",
   "language": "python",
   "name": "python2"
  },
  "language_info": {
   "codemirror_mode": {
    "name": "ipython",
    "version": 2
   },
   "file_extension": ".py",
   "mimetype": "text/x-python",
   "name": "python",
   "nbconvert_exporter": "python",
   "pygments_lexer": "ipython2",
   "version": "2.7.11"
  }
 },
 "nbformat": 4,
 "nbformat_minor": 0
}
