{
 "cells": [
  {
   "cell_type": "markdown",
   "metadata": {},
   "source": [
    "# Project Euler: Problem 7\n",
    "\n",
    "**Disclaimer: Project Euler discourages the publishing of answers on the internet. Anyone who wishes to work out these problems on their own should stop reading now.**\n",
    "\n",
    "By listing the first six prime numbers: 2, 3, 5, 7, 11, and 13, we can see that the 6th prime is 13.\n",
    "\n",
    "What is the 10,001st prime number?"
   ]
  },
  {
   "cell_type": "code",
   "execution_count": 1,
   "metadata": {
    "collapsed": true
   },
   "outputs": [],
   "source": [
    "# Import packages\n",
    "import math"
   ]
  },
  {
   "cell_type": "code",
   "execution_count": 2,
   "metadata": {
    "collapsed": true
   },
   "outputs": [],
   "source": [
    "# Helper function\n",
    "def prime_list(n, l=[2,3]):\n",
    "    \"\"\" (int, list) -> list\n",
    "    \n",
    "    Return list of primes building on prior list.\n",
    "    \n",
    "    >>> prime_list(3, [2, 3])\n",
    "    [2, 3, 5]\n",
    "    >>> prime_list(5, [2, 3, 5])\n",
    "    [2, 3, 5, 7, 11]\n",
    "    \"\"\"\n",
    "    \n",
    "    # Initalize x as last prime in list\n",
    "    x = l[-1]\n",
    "    \n",
    "    # Continue until n is hit\n",
    "    while len(l) < n:\n",
    "        # Increase last prime by 2\n",
    "        x += 2\n",
    "        # Find root integer\n",
    "        y = math.floor(x ** 0.5)\n",
    "        # Iterate through list\n",
    "        for i in l:\n",
    "            # Check what comes first an element larger than root or a perfect divison.\n",
    "            # If element larger than root, prime found.\n",
    "            if i > y:\n",
    "                l.append(x)\n",
    "                break\n",
    "            elif x % i == 0:\n",
    "                break\n",
    "                \n",
    "    return l"
   ]
  },
  {
   "cell_type": "code",
   "execution_count": 3,
   "metadata": {
    "collapsed": false
   },
   "outputs": [],
   "source": [
    "# Test\n",
    "assert prime_list(3, [2, 3]) == [2, 3, 5]\n",
    "assert prime_list(5, [2, 3, 5]) == [2, 3, 5, 7, 11]"
   ]
  },
  {
   "cell_type": "code",
   "execution_count": 4,
   "metadata": {
    "collapsed": true
   },
   "outputs": [],
   "source": [
    "def find_nth_prime(n):\n",
    "    \"\"\" (int) -> int\n",
    "    \n",
    "    Returns the nth prime number.\n",
    "    \n",
    "    >>> find_nth_prime(3)\n",
    "    5\n",
    "    >>> find_nth_prime(6)\n",
    "    13\n",
    "    \"\"\"\n",
    "    \n",
    "    # Initialize base list of primes\n",
    "    l = [2,3]\n",
    "    \n",
    "    # While list is smaller than n, add primes\n",
    "    if len(l) < n:\n",
    "        l = prime_list(n, l)\n",
    "        \n",
    "    return l[-1]"
   ]
  },
  {
   "cell_type": "code",
   "execution_count": 5,
   "metadata": {
    "collapsed": false
   },
   "outputs": [],
   "source": [
    "# Test\n",
    "assert find_nth_prime(3) == 5\n",
    "assert find_nth_prime(6) == 13"
   ]
  },
  {
   "cell_type": "code",
   "execution_count": 6,
   "metadata": {
    "collapsed": false
   },
   "outputs": [
    {
     "name": "stdout",
     "output_type": "stream",
     "text": [
      "104743\n"
     ]
    }
   ],
   "source": [
    "# Answer\n",
    "print(find_nth_prime(10001))"
   ]
  }
 ],
 "metadata": {
  "anaconda-cloud": {},
  "kernelspec": {
   "display_name": "Python [conda env:aind]",
   "language": "python",
   "name": "conda-env-aind-py"
  },
  "language_info": {
   "codemirror_mode": {
    "name": "ipython",
    "version": 3
   },
   "file_extension": ".py",
   "mimetype": "text/x-python",
   "name": "python",
   "nbconvert_exporter": "python",
   "pygments_lexer": "ipython3",
   "version": "3.6.2"
  }
 },
 "nbformat": 4,
 "nbformat_minor": 2
}
