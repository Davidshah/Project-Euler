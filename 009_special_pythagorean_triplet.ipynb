{
 "cells": [
  {
   "cell_type": "markdown",
   "metadata": {},
   "source": [
    "# Special Pythagorean Triplet\n",
    "\n",
    "**Disclaimer: Project Euler discourages the publishing of answers on the internet. Anyone who wishes to work out these problems on their own should stop reading now.\n",
    "\n",
    "---"
   ]
  },
  {
   "cell_type": "markdown",
   "metadata": {},
   "source": [
    "A Pythagorean triplet is a set of three natural numbers, a < b < c, for which,\n",
    "```\n",
    " a**2 + b**2 = c**2\n",
    "```\n",
    "For example, 3<sup>2</sup> + 4<sup>2</sup> = 9 + 16 = 25 = 5<sup>2</sup>.\n",
    "\n",
    "There exists exactly one Pythagorean triplet for which `a + b + c = 1000`. Find the product `abc`."
   ]
  },
  {
   "cell_type": "markdown",
   "metadata": {},
   "source": [
    "### Strategy: Brute Force"
   ]
  },
  {
   "cell_type": "code",
   "execution_count": 1,
   "metadata": {
    "collapsed": false
   },
   "outputs": [],
   "source": [
    "# Time complexity: O(n^3)\n",
    "\n",
    "def find_pyth_triplet(n):\n",
    "    \"\"\" (int) -> int\n",
    "    \n",
    "    Return product of pythagorean triplet where\n",
    "    a + b + c = n.\n",
    "    Return -1 if no triplet exists.\n",
    "    \n",
    "    >>> find_pyth_triplet(12)\n",
    "    60\n",
    "    >>> find_pyth_triplet(30)\n",
    "    780\n",
    "    \"\"\"\n",
    "    \n",
    "    for a in range(1, n):\n",
    "        for b in range (a+1, n):\n",
    "            for c in range (b+1, n):\n",
    "                if a + b + c == n and a**2 + b**2 == c**2:\n",
    "                    return a * b * c\n",
    "    \n",
    "    return -1"
   ]
  },
  {
   "cell_type": "code",
   "execution_count": 2,
   "metadata": {
    "collapsed": false
   },
   "outputs": [
    {
     "name": "stdout",
     "output_type": "stream",
     "text": [
      "1.24 ms ± 19.2 µs per loop (mean ± std. dev. of 6 runs, 1000 loops each)\n"
     ]
    }
   ],
   "source": [
    "%%timeit -n1000 -r6\n",
    "assert find_pyth_triplet(0) == -1\n",
    "assert find_pyth_triplet(4) == -1\n",
    "assert find_pyth_triplet(12) == 60\n",
    "assert find_pyth_triplet(13) == -1\n",
    "assert find_pyth_triplet(30) == 780\n",
    "assert find_pyth_triplet(29) == -1\n",
    "assert find_pyth_triplet(40) == 2040"
   ]
  },
  {
   "cell_type": "markdown",
   "metadata": {},
   "source": [
    "### Strategy: Optimize 2 loops\n",
    "\n",
    "* `a + b + c = n`\n",
    "* `a < b < c`\n",
    "* `3a < n`\n",
    "* `a < n/3`\n",
    "* `n/3 < c < n/2`\n",
    "* `b = n - a - c`"
   ]
  },
  {
   "cell_type": "code",
   "execution_count": 3,
   "metadata": {
    "collapsed": true
   },
   "outputs": [],
   "source": [
    "# Time complexity: O(n^2)\n",
    "\n",
    "def find_pyth_triplet(n):\n",
    "    \"\"\" (int) -> int\n",
    "    \n",
    "    Return product of pythagorean triplet where\n",
    "    a + b + c = n.\n",
    "    Return -1 if no triplet exists.\n",
    "    \n",
    "    >>> find_pyth_triplet(12)\n",
    "    60\n",
    "    >>> find_pyth_triplet(30)\n",
    "    780\n",
    "    \"\"\"\n",
    "    \n",
    "    for a in range(1, n//3):\n",
    "        for c in range (n//3, n//2):\n",
    "            b = n - a - c\n",
    "            if a + b + c == n and a**2 + b**2 == c**2:\n",
    "                return a * b * c\n",
    "    \n",
    "    return -1"
   ]
  },
  {
   "cell_type": "code",
   "execution_count": 4,
   "metadata": {
    "collapsed": false
   },
   "outputs": [
    {
     "name": "stdout",
     "output_type": "stream",
     "text": [
      "148 µs ± 15.5 µs per loop (mean ± std. dev. of 6 runs, 1000 loops each)\n"
     ]
    }
   ],
   "source": [
    "%%timeit -n1000 -r6\n",
    "assert find_pyth_triplet(0) == -1\n",
    "assert find_pyth_triplet(4) == -1\n",
    "assert find_pyth_triplet(12) == 60\n",
    "assert find_pyth_triplet(13) == -1\n",
    "assert find_pyth_triplet(30) == 780\n",
    "assert find_pyth_triplet(29) == -1\n",
    "assert find_pyth_triplet(40) == 2040"
   ]
  },
  {
   "cell_type": "markdown",
   "metadata": {},
   "source": [
    "### Strategy: Optimize 1 loop\n",
    "* `a + b + c = n`\n",
    "* `a**2 + b**2 = c**2`\n",
    "* `c = n - a - b`\n",
    "* `a**2 + b**2 = (n - a - b)**2`\n",
    "* `b = (a**2 - (a - n)**2) / 2(a - n)`"
   ]
  },
  {
   "cell_type": "code",
   "execution_count": 5,
   "metadata": {
    "collapsed": true
   },
   "outputs": [],
   "source": [
    "# Time complexity: O(n)\n",
    "\n",
    "def find_pyth_triplet(n):\n",
    "    \"\"\" (int) -> int\n",
    "    \n",
    "    Return product of pythagorean triplet where\n",
    "    a + b + c = n.\n",
    "    Return -1 if no triplet exists.\n",
    "    \n",
    "    >>> find_pyth_triplet(12)\n",
    "    60\n",
    "    >>> find_pyth_triplet(30)\n",
    "    780\n",
    "    \"\"\"\n",
    "    \n",
    "    for a in range(1, n//3):\n",
    "        b = (a**2 - (a - n)**2) / (2 * (a - n))\n",
    "        if int(b) == b:\n",
    "            b = int(b)\n",
    "            c = n - a - b\n",
    "            if a**2 + b**2 == c**2 and a + b + c == n:\n",
    "                return a * b * c\n",
    "    \n",
    "    return -1"
   ]
  },
  {
   "cell_type": "code",
   "execution_count": 6,
   "metadata": {
    "collapsed": false
   },
   "outputs": [
    {
     "name": "stdout",
     "output_type": "stream",
     "text": [
      "43 µs ± 9.16 µs per loop (mean ± std. dev. of 6 runs, 1000 loops each)\n"
     ]
    }
   ],
   "source": [
    "%%timeit -n1000 -r6\n",
    "assert find_pyth_triplet(0) == -1\n",
    "assert find_pyth_triplet(4) == -1\n",
    "assert find_pyth_triplet(12) == 60\n",
    "assert find_pyth_triplet(13) == -1\n",
    "assert find_pyth_triplet(30) == 780\n",
    "assert find_pyth_triplet(29) == -1\n",
    "assert find_pyth_triplet(40) == 2040"
   ]
  },
  {
   "cell_type": "code",
   "execution_count": 7,
   "metadata": {
    "collapsed": false
   },
   "outputs": [
    {
     "data": {
      "text/plain": [
       "31875000"
      ]
     },
     "execution_count": 7,
     "metadata": {},
     "output_type": "execute_result"
    }
   ],
   "source": [
    "# Solution\n",
    "find_pyth_triplet(1000)"
   ]
  }
 ],
 "metadata": {
  "anaconda-cloud": {},
  "kernelspec": {
   "display_name": "Python [conda env:aind]",
   "language": "python",
   "name": "conda-env-aind-py"
  },
  "language_info": {
   "codemirror_mode": {
    "name": "ipython",
    "version": 3
   },
   "file_extension": ".py",
   "mimetype": "text/x-python",
   "name": "python",
   "nbconvert_exporter": "python",
   "pygments_lexer": "ipython3",
   "version": "3.6.2"
  }
 },
 "nbformat": 4,
 "nbformat_minor": 2
}
