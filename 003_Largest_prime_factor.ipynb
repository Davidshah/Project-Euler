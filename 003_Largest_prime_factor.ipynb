{
 "cells": [
  {
   "cell_type": "markdown",
   "metadata": {},
   "source": [
    "# Project Euler: Problem 3\n",
    "\n",
    "The prime factors of 13195 are 5, 7, 13 and 29.\n",
    "\n",
    "What is the largest prime factor of the number 600851475143?\n",
    "\n",
    "**Disclaimer: Project Euler discourages the publishing of answers on the internet. Anyone who wishes to work out these problems on their own should stop reading now.**"
   ]
  },
  {
   "cell_type": "markdown",
   "metadata": {},
   "source": [
    "### Strategy\n",
    "A brute force strategy doesn't seem viable here. First, I would need to find all the factors of a number, then I would need to do the same with those factors in order to find the primes. Instead I am going to break this problem down into 3 steps.\n",
    "\n",
    "1. Find the factors of the input number.\n",
    "    * Factors of n: [i, n // i] if n % i = 0\n",
    "    * Upper limit: sqrt(n)\n",
    "    * This will find every i that is a factor of n. Since i^2 would mark the point in the process where values are repeated, the algorithm can be stopped.\n",
    "2. Interate through the factors to find the primes.\n",
    "    * Many algorithms have been devolped over the centuries to test for primality. The two main subfields are probabilistic and deterministic tests.\n",
    "    * I will use the [Miller-Rabin](https://en.wikipedia.org/wiki/Miller%E2%80%93Rabin_primality_test) probabilistic test.\n",
    "    * Pseudocode:\n",
    "    ```\n",
    "    Input 1: n > 3, an odd integer to be tested for primality;\n",
    "    Input 2: k, a parameter that determines the accuracy of the test\n",
    "    Output: composite if n is composite, otherwise probably prime\n",
    "    \n",
    "    write n − 1 as 2r·d with d odd by factoring powers of 2 from n − 1\n",
    "    WitnessLoop: repeat k times:\n",
    "        pick a random integer a in the range [2, n − 2]\n",
    "        x ← ad mod n\n",
    "        if x = 1 or x = n − 1 then\n",
    "            continue WitnessLoop\n",
    "        repeat r − 1 times:\n",
    "            x ← x2 mod n\n",
    "            if x = 1 then\n",
    "                return composite\n",
    "            if x = n − 1 then\n",
    "                continue WitnessLoop\n",
    "        return composite\n",
    "    return probably prime\n",
    "    ```\n",
    "3. Find the max value."
   ]
  },
  {
   "cell_type": "code",
   "execution_count": 4,
   "metadata": {
    "collapsed": true
   },
   "outputs": [],
   "source": [
    "### Initalize Libararies\n",
    "\n",
    "from time import time\n",
    "import math\n",
    "import random"
   ]
  },
  {
   "cell_type": "code",
   "execution_count": 5,
   "metadata": {
    "collapsed": false
   },
   "outputs": [],
   "source": [
    "### Step one: find factors\n",
    "\n",
    "def factors(n):\n",
    "    \"\"\"\n",
    "    Find all the factors of a number n and return a set of them.\n",
    "    \"\"\"\n",
    "    # initalize timer\n",
    "    #t0 = time()\n",
    "    \n",
    "    # create set of factors\n",
    "    factor_set = set(reduce(list.__add__, \n",
    "                ([i, n//i] for i in range(1, int(math.sqrt(n)) + 1) if n % i == 0)))\n",
    "    \n",
    "    #print \"Time to find factors:\", round(time()-t0, 3), \"s\"\n",
    "    \n",
    "    return factor_set"
   ]
  },
  {
   "cell_type": "code",
   "execution_count": 6,
   "metadata": {
    "collapsed": false
   },
   "outputs": [],
   "source": [
    "### Step one: test\n",
    "\n",
    "def test():\n",
    "    assert factors(13) == {1,13}\n",
    "    assert factors(15) == {1,15,3,5}\n",
    "    \n",
    "test()"
   ]
  },
  {
   "cell_type": "code",
   "execution_count": 7,
   "metadata": {
    "collapsed": false
   },
   "outputs": [],
   "source": [
    "### Step two: test primality \n",
    "\n",
    "def is_prime(n, k):\n",
    "    \"\"\"\n",
    "    test a number n for primality and return true if prime.\n",
    "    \"\"\"\n",
    "    # initalize timer and variables\n",
    "    #t0 = time()\n",
    "    d, r = n-1, 0\n",
    "    \n",
    "    # write n − 1 as 2r·d with d odd by factoring powers of 2 from n − 1\n",
    "    # calculate r and d\n",
    "    while d % 2 == 0:\n",
    "        d /= 2\n",
    "        r += 1\n",
    "    \n",
    "    d = (n-1)/(2**r)\n",
    "    \n",
    "    # WitnessLoop: repeat k times:\n",
    "    # test the number k times\n",
    "    for i in range(0, k):\n",
    "        \n",
    "        # pick a random integer a in the range [2, n − 2]\n",
    "        a = random.randint(2, n - 2)\n",
    "        \n",
    "        # calculate a^d mod n\n",
    "        x = pow(a, d, n)\n",
    "        \n",
    "        # if x = 1 or x = n − 1 then continue WitnessLoop\n",
    "        if x == 1 or x == n-1:\n",
    "            continue\n",
    "            \n",
    "        # repeat r − 1 times\n",
    "        # calculate x^2 mod n\n",
    "        for j in range(1, r):\n",
    "            x = pow(x, 2, n)\n",
    "            \n",
    "            # if x = 1 then return composite\n",
    "            if x == 1:\n",
    "                #print \"Time to find primality:\", round(time()-t0, 3), \"s\"\n",
    "                return False\n",
    "            \n",
    "            # if x = n − 1 then continue WitnessLoop\n",
    "            elif x == n - 1:\n",
    "                break\n",
    "            \n",
    "        else:\n",
    "            #print \"Time to find primality:\", round(time()-t0, 3), \"s\"\n",
    "            return False\n",
    "    \n",
    "    #print \"Time to find primality:\", round(time()-t0, 3), \"s\"\n",
    "    return True"
   ]
  },
  {
   "cell_type": "code",
   "execution_count": 8,
   "metadata": {
    "collapsed": false
   },
   "outputs": [],
   "source": [
    "### Step two: test\n",
    "\n",
    "def test(k):\n",
    "    assert is_prime(7, k) == True\n",
    "    assert is_prime(29, k) == True\n",
    "    assert is_prime(41, k) == True\n",
    "    assert is_prime(229, k) == True\n",
    "    assert is_prime(7919, k) == True\n",
    "    assert is_prime(9, k) == False\n",
    "    assert is_prime(35, k) == False\n",
    "    assert is_prime(49, k) == False\n",
    "    assert is_prime(231, k) == False\n",
    "    assert is_prime(7917, k) == False\n",
    "    \n",
    "test(11)    "
   ]
  },
  {
   "cell_type": "code",
   "execution_count": 9,
   "metadata": {
    "collapsed": false
   },
   "outputs": [],
   "source": [
    "### Step three: find max prime\n",
    "\n",
    "def max_prime(n):\n",
    "    \"\"\"\n",
    "    finds the max prime factor of a number n\n",
    "    \"\"\"\n",
    "    # initialize timer\n",
    "    t0 = time()\n",
    "    \n",
    "    # find all factors of n\n",
    "    x = factors(n)\n",
    "    \n",
    "    # iterate through x and test for primality\n",
    "    # if prime add to prime_list\n",
    "    prime_list = []\n",
    "    for i in x:\n",
    "        if i % 2 != 0 and i > 3:\n",
    "            if is_prime(i, 10):\n",
    "                prime_list.append(i)\n",
    "    \n",
    "    y = max(prime_list)\n",
    "    \n",
    "    print y\n",
    "    print \"Time to find max prime:\", round(time()-t0, 3), \"s\"\n",
    "    \n",
    "    return y  "
   ]
  },
  {
   "cell_type": "code",
   "execution_count": 10,
   "metadata": {
    "collapsed": false
   },
   "outputs": [
    {
     "name": "stdout",
     "output_type": "stream",
     "text": [
      "29\n",
      "Time to find max prime: 0.0 s\n"
     ]
    }
   ],
   "source": [
    "### Step three: test\n",
    "\n",
    "def test():\n",
    "    assert max_prime(13195) == 29\n",
    "    \n",
    "test()    "
   ]
  },
  {
   "cell_type": "code",
   "execution_count": 11,
   "metadata": {
    "collapsed": false
   },
   "outputs": [
    {
     "name": "stdout",
     "output_type": "stream",
     "text": [
      "6857\n",
      "Time to find max prime: 0.149 s\n"
     ]
    },
    {
     "data": {
      "text/plain": [
       "6857"
      ]
     },
     "execution_count": 11,
     "metadata": {},
     "output_type": "execute_result"
    }
   ],
   "source": [
    "### Answer Project Euler Problem\n",
    "### What is the largest prime factor of the number 600851475143?\n",
    "\n",
    "max_prime(600851475143)"
   ]
  }
 ],
 "metadata": {
  "kernelspec": {
   "display_name": "Python 2",
   "language": "python",
   "name": "python2"
  },
  "language_info": {
   "codemirror_mode": {
    "name": "ipython",
    "version": 2
   },
   "file_extension": ".py",
   "mimetype": "text/x-python",
   "name": "python",
   "nbconvert_exporter": "python",
   "pygments_lexer": "ipython2",
   "version": "2.7.11"
  }
 },
 "nbformat": 4,
 "nbformat_minor": 0
}
