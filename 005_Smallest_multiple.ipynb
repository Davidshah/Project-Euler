{
 "cells": [
  {
   "cell_type": "markdown",
   "metadata": {},
   "source": [
    "# Project Euler: Problem 5\n",
    "\n",
    "2520 is the smallest number that can be divided by each of the numbers from 1 to 10 without any remainder.\n",
    "\n",
    "What is the smallest positive number that is evenly divisible by all of the numbers from 1 to 20?\n",
    "\n",
    "**Disclaimer: Project Euler discourages the publishing of answers on the internet. Anyone who wishes to work out these problems on their own should stop reading now.**"
   ]
  },
  {
   "cell_type": "markdown",
   "metadata": {},
   "source": [
    "### Initial Strategy\n",
    "1. Find rules for determining divisability\n",
    "2. Brute Force through numbers larger than 2520 in steps of 20 until a number that is divisible by all the numbers from 1 to 20 is found."
   ]
  },
  {
   "cell_type": "markdown",
   "metadata": {},
   "source": [
    "### Divisability Rules\n",
    "Reference: [Wiki](https://en.wikipedia.org/wiki/Divisibility_rule)\n",
    "\n",
    "* 06: It is divisible by 2 and by 3.\n",
    "* 12: It is divisible by 3 and by 4.\n",
    "* 14: It is divisible by 2 and by 7.\n",
    "* 15: It is divisible by 3 and by 5.\n",
    "* 18: It is divisible by 2 and by 9.\n",
    "* 20: It is divisible by 10, and the tens digit is even.\n",
    "\n",
    "This covers: [2, 3, 4, 5, 6, 7, 9, 10, 12, 14, 15, 18, 20]\n",
    "Not covered: [8, 11, 13, 16, 17, 19]"
   ]
  },
  {
   "cell_type": "code",
   "execution_count": 1,
   "metadata": {
    "collapsed": true
   },
   "outputs": [],
   "source": [
    "### Initialize Libararies\n",
    "\n",
    "from time import time\n",
    "from fractions import gcd"
   ]
  },
  {
   "cell_type": "code",
   "execution_count": 2,
   "metadata": {
    "collapsed": false
   },
   "outputs": [
    {
     "name": "stdout",
     "output_type": "stream",
     "text": [
      "232792560\n",
      "Time to find: 0.735 s\n"
     ]
    }
   ],
   "source": [
    "### Brute force attempt\n",
    "\n",
    "def smallest_multiple():\n",
    "    \"\"\"\n",
    "    Iterate by 20 through all numbers greater than 2520 till a solution is found.\n",
    "    \"\"\"\n",
    "    # initialize timer\n",
    "    t0 = time()\n",
    "    \n",
    "    x = True\n",
    "    start = 2520\n",
    "    while x:\n",
    "        start += 20\n",
    "        if  start % 19 == 0 and start % 17 == 0 and \\\n",
    "            start % 16 == 0 and start % 13 == 0 and \\\n",
    "            start % 11 == 0 and start % 9 == 0 and \\\n",
    "            start % 7 == 0 and start % 5 == 0 and \\\n",
    "            start % 3 == 0:\n",
    "            print start\n",
    "            print \"Time to find:\", round(time()-t0, 3), \"s\"\n",
    "            x = False\n",
    "                \n",
    "\n",
    "smallest_multiple()"
   ]
  },
  {
   "cell_type": "markdown",
   "metadata": {},
   "source": [
    "### Optimized strategy\n",
    "The time to execute this brute force algorithm will be arbitrarily long and won't scale well. A refined strategy will be needed.\n",
    "1. Create a function for finding the least common multiple (lcm) between two numbers (a, b). Note that a x b = lcm x gcd.\n",
    "2. Observe that lcm(a, b, c) equals lcm(lcm(a,b), c)\n",
    "3. Use the built in [reduce](https://docs.python.org/2/library/functions.html#reduce) function to iterate through all the numbers in the range 1-20."
   ]
  },
  {
   "cell_type": "code",
   "execution_count": 4,
   "metadata": {
    "collapsed": false
   },
   "outputs": [
    {
     "name": "stdout",
     "output_type": "stream",
     "text": [
      "232792560\n",
      "Time to find: 0.0 s\n"
     ]
    }
   ],
   "source": [
    "# Optimized solution\n",
    "\n",
    "def lcm(a,b):\n",
    "    \"\"\"\n",
    "    Calculates the lowest common denominator of two inputs\n",
    "    \"\"\"\n",
    "    return (a*b)//gcd(a,b)\n",
    "\n",
    "t0 = time()\n",
    "print reduce(lcm, range(1, 20+1))\n",
    "print \"Time to find:\", round(time()-t0, 3), \"s\""
   ]
  }
 ],
 "metadata": {
  "kernelspec": {
   "display_name": "Python 2",
   "language": "python",
   "name": "python2"
  },
  "language_info": {
   "codemirror_mode": {
    "name": "ipython",
    "version": 2
   },
   "file_extension": ".py",
   "mimetype": "text/x-python",
   "name": "python",
   "nbconvert_exporter": "python",
   "pygments_lexer": "ipython2",
   "version": "2.7.11"
  }
 },
 "nbformat": 4,
 "nbformat_minor": 0
}
