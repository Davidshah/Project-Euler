{
 "cells": [
  {
   "cell_type": "markdown",
   "metadata": {},
   "source": [
    "# Summation of Primes\n",
    "---\n",
    "\n",
    "**Disclaimer: Project Euler discourages the publishing of answers on the internet. Anyone who wishes to work out these problems on their own should stop reading now.**"
   ]
  },
  {
   "cell_type": "markdown",
   "metadata": {},
   "source": [
    "The sum of the primes below 10 is 2 + 3 + 5 + 7 = 17.\n",
    "\n",
    "Find the sum of all the primes below two million."
   ]
  },
  {
   "cell_type": "markdown",
   "metadata": {},
   "source": [
    "### Strategy: Sieve of Eratosthenes\n",
    "1. Make a sieve (list) of all numbers from 2 to N.\n",
    "2. mark 0 and 1 as false.\n",
    "3. Iterate through sieve and find first number not False. This is a prime.\n",
    "5. Set all multiples of that number to False.\n",
    "6. Repeat and stop at sqrt(N). Numbers passed that already filled in."
   ]
  },
  {
   "cell_type": "code",
   "execution_count": 1,
   "metadata": {
    "collapsed": true
   },
   "outputs": [],
   "source": [
    "import math\n",
    "def summation_of_primes(n):\n",
    "    \"\"\" (int) -> int\n",
    "    \n",
    "    Return the sum of all the primes not greater than n.\n",
    "    \n",
    "    >>> summation_of_primes(5)\n",
    "    10\n",
    "    >>> summation_of_primes(10)\n",
    "    17\n",
    "    \"\"\"\n",
    "    # Include the number in summation\n",
    "    n += 1\n",
    "    \n",
    "    # Initalize sieve\n",
    "    sieve = [True] * n\n",
    "    \n",
    "    # Set 0 and 1 to false\n",
    "    sieve[0] = sieve[1] = False\n",
    "    # Iterate through sieve, stop at squareroot \n",
    "    for i, isprime in enumerate(sieve[:math.ceil(math.sqrt(n))]):\n",
    "        if isprime:\n",
    "            # If prime set multiples to false\n",
    "            for mult in range(i*i, n, i):\n",
    "                sieve[mult] = False\n",
    "    \n",
    "    return sum(i for i in range(2, n) if sieve[i])"
   ]
  },
  {
   "cell_type": "code",
   "execution_count": 2,
   "metadata": {
    "collapsed": false
   },
   "outputs": [
    {
     "name": "stdout",
     "output_type": "stream",
     "text": [
      "8.63 µs ± 4.08 µs per loop (mean ± std. dev. of 6 runs, 1000 loops each)\n"
     ]
    }
   ],
   "source": [
    "%%timeit -n1000 -r6\n",
    "assert summation_of_primes(5) == 10\n",
    "assert summation_of_primes(10) == 17"
   ]
  },
  {
   "cell_type": "markdown",
   "metadata": {},
   "source": [
    "### Solution"
   ]
  },
  {
   "cell_type": "code",
   "execution_count": 3,
   "metadata": {
    "collapsed": false
   },
   "outputs": [
    {
     "data": {
      "text/plain": [
       "142913828922"
      ]
     },
     "execution_count": 3,
     "metadata": {},
     "output_type": "execute_result"
    }
   ],
   "source": [
    "summation_of_primes(2000000)"
   ]
  }
 ],
 "metadata": {
  "anaconda-cloud": {},
  "kernelspec": {
   "display_name": "Python [conda env:aind]",
   "language": "python",
   "name": "conda-env-aind-py"
  },
  "language_info": {
   "codemirror_mode": {
    "name": "ipython",
    "version": 3
   },
   "file_extension": ".py",
   "mimetype": "text/x-python",
   "name": "python",
   "nbconvert_exporter": "python",
   "pygments_lexer": "ipython3",
   "version": "3.6.4"
  }
 },
 "nbformat": 4,
 "nbformat_minor": 2
}
